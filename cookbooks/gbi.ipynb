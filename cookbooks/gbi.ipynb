{
 "cells": [
  {
   "cell_type": "markdown",
   "id": "f802e64d-4eaa-445d-a48a-1042a91bc394",
   "metadata": {
    "tags": []
   },
   "source": [
    "# GBI\n",
    "\n",
    "## 目标\n",
    "通过 GBI sdk 接口完成选表和问表的能力。\n",
    "\n",
    "## 准备工作\n",
    "### 平台注册\n",
    "1.先在appbuilder平台注册，获取token\n",
    "2.创建BES集群，详见(https://cloud.baidu.com/doc/BES/s/0jwvyk4tv)\n",
    "3.安装appbuilder-sdk"
   ]
  },
  {
   "cell_type": "code",
   "execution_count": null,
   "id": "2939356f-61c2-42e9-9e0c-fc6729c193f6",
   "metadata": {},
   "outputs": [
    {
     "ename": "",
     "evalue": "",
     "output_type": "error",
     "traceback": [
      "\u001b[1;31m运行具有“py310”的单元格需要ipykernel包。\n",
      "\u001b[1;31mRun the following command to install 'ipykernel' into the Python environment. \n",
      "\u001b[1;31mCommand: 'conda install -n py310 ipykernel --update-deps --force-reinstall'"
     ]
    }
   ],
   "source": [
    "# !pip install appbuilder-sdk"
   ]
  },
  {
   "cell_type": "code",
   "execution_count": null,
   "id": "4ccff03b-1567-4e8b-8e1f-9a5032690406",
   "metadata": {},
   "outputs": [
    {
     "ename": "",
     "evalue": "",
     "output_type": "error",
     "traceback": [
      "\u001b[1;31m运行具有“py310”的单元格需要ipykernel包。\n",
      "\u001b[1;31mRun the following command to install 'ipykernel' into the Python environment. \n",
      "\u001b[1;31mCommand: 'conda install -n py310 ipykernel --update-deps --force-reinstall'"
     ]
    }
   ],
   "source": [
    "import logging\n",
    "import os\n",
    "\n",
    "#  设置环境变量\n",
    "os.environ[\"APPBUILDER_TOKEN\"] = \"...\"\n",
    "\n",
    "# 创建BES集群后获得集群id、用户名、密码\n",
    "cluster_id = \"...\"\n",
    "username = \"...\"\n",
    "password = \"...\"\n",
    "\n",
    "print(\"init done\")\n"
   ]
  },
  {
   "cell_type": "markdown",
   "id": "aeb2fa55-075f-48df-a9fb-8b40d9900684",
   "metadata": {},
   "source": [
    "## 开发过程"
   ]
  },
  {
   "cell_type": "markdown",
   "id": "1c3c5cee",
   "metadata": {},
   "source": [
    "设置表的 schema"
   ]
  },
  {
   "cell_type": "code",
   "execution_count": null,
   "id": "d7d6440c",
   "metadata": {},
   "outputs": [
    {
     "ename": "",
     "evalue": "",
     "output_type": "error",
     "traceback": [
      "\u001b[1;31m运行具有“py310”的单元格需要ipykernel包。\n",
      "\u001b[1;31mRun the following command to install 'ipykernel' into the Python environment. \n",
      "\u001b[1;31mCommand: 'conda install -n py310 ipykernel --update-deps --force-reinstall'"
     ]
    }
   ],
   "source": [
    "SUPER_MARKET_SCHEMA = \"\"\"\n",
    "```\n",
    "CREATE TABLE `超市营收明细` (\n",
    "  `订单编号` varchar(32) DEFAULT NULL,\n",
    "  `订单日期` date DEFAULT NULL,\n",
    "  `邮寄方式` varchar(32) DEFAULT NULL,\n",
    "  `地区` varchar(32) DEFAULT NULL,\n",
    "  `省份` varchar(32) DEFAULT NULL,\n",
    "  `客户类型` varchar(32) DEFAULT NULL,\n",
    "  `客户名称` varchar(32) DEFAULT NULL,\n",
    "  `商品类别` varchar(32) DEFAULT NULL,\n",
    "  `制造商` varchar(32) DEFAULT NULL,\n",
    "  `商品名称` varchar(32) DEFAULT NULL,\n",
    "  `数量` int(11) DEFAULT NULL,\n",
    "  `销售额` int(11) DEFAULT NULL,\n",
    "  `利润` int(11) DEFAULT NULL\n",
    ") ENGINE=InnoDB DEFAULT CHARSET=utf8mb4\n",
    "```\n",
    "\"\"\"\n",
    "\n",
    "PRODUCT_SALES_INFO = \"\"\"\n",
    "现有 mysql 表 product_sales_info, \n",
    "该表的用途是: 产品收入表\n",
    "```\n",
    "CREATE TABLE `product_sales_info` (\n",
    "  `年` int,\n",
    "  `月` int,\n",
    "  `产品名称` varchar,\n",
    "  `收入` decimal,\n",
    "  `非交付成本` decimal,\n",
    "  `含交付毛利` decimal\n",
    ")\n",
    "```\n",
    "\"\"\""
   ]
  },
  {
   "cell_type": "markdown",
   "id": "463254a1",
   "metadata": {},
   "source": [
    "设置表的描述用于选表"
   ]
  },
  {
   "cell_type": "code",
   "execution_count": null,
   "id": "7fefcae1",
   "metadata": {},
   "outputs": [
    {
     "ename": "",
     "evalue": "",
     "output_type": "error",
     "traceback": [
      "\u001b[1;31m运行具有“py310”的单元格需要ipykernel包。\n",
      "\u001b[1;31mRun the following command to install 'ipykernel' into the Python environment. \n",
      "\u001b[1;31mCommand: 'conda install -n py310 ipykernel --update-deps --force-reinstall'"
     ]
    }
   ],
   "source": [
    "table_descriptions = {\n",
    "    \"超市营收明细\": \"超市营收明细表，包含超市各种信息等\",\n",
    "    \"product_sales_info\": \"产品销售表\"}"
   ]
  },
  {
   "cell_type": "markdown",
   "id": "a0aff843",
   "metadata": {},
   "source": [
    "选表:"
   ]
  },
  {
   "cell_type": "code",
   "execution_count": null,
   "id": "41559341-fd7a-478c-a08b-1477d79e9d41",
   "metadata": {
    "ExecuteTime": {
     "end_time": "2023-12-18T06:24:26.982459Z",
     "start_time": "2023-12-18T06:23:53.771345Z"
    }
   },
   "outputs": [
    {
     "ename": "",
     "evalue": "",
     "output_type": "error",
     "traceback": [
      "\u001b[1;31m运行具有“py310”的单元格需要ipykernel包。\n",
      "\u001b[1;31mRun the following command to install 'ipykernel' into the Python environment. \n",
      "\u001b[1;31mCommand: 'conda install -n py310 ipykernel --update-deps --force-reinstall'"
     ]
    }
   ],
   "source": [
    "import appbuilder\n",
    "from appbuilder.core.message import Message\n",
    "from appbuilder.core.components.gbi.basic import GBILocalSession\n",
    "\n",
    "# 生成问表对象\n",
    "select_table = appbuilder.GBISelectTable(model_name=\"ERNIE-Bot 4.0\", table_descriptions=table_descriptions)\n",
    "query = \"列出超市中的所有数据\"\n",
    "msg = Message(query)\n",
    "session = GBILocalSession(session_id=\"1\")\n",
    "result_message = select_table(message=msg, session=session)"
   ]
  },
  {
   "cell_type": "markdown",
   "id": "16a8aa38-7a33-4e27-bca4-00900cfe1641",
   "metadata": {},
   "source": [
    "问表"
   ]
  },
  {
   "cell_type": "code",
   "execution_count": null,
   "id": "9f45ef5f-6206-4b31-83c4-3c8eb2c86925",
   "metadata": {},
   "outputs": [
    {
     "ename": "",
     "evalue": "",
     "output_type": "error",
     "traceback": [
      "\u001b[1;31m运行具有“py310”的单元格需要ipykernel包。\n",
      "\u001b[1;31mRun the following command to install 'ipykernel' into the Python environment. \n",
      "\u001b[1;31mCommand: 'conda install -n py310 ipykernel --update-deps --force-reinstall'"
     ]
    }
   ],
   "source": [
    "table_schemas = [SUPER_MARKET_SCHEMA]\n",
    "gbi_nl2sql = appbuilder.GBINL2Sql(model_name=\"ERNIE-Bot 4.0\", table_schemas=table_schemas)\n",
    "result_message = gbi_nl2sql(message=msg, session=session)\n",
    "print(result_message.content.sql)"
   ]
  }
 ],
 "metadata": {
  "kernelspec": {
   "display_name": "Python 3 (ipykernel)",
   "language": "python",
   "name": "python3"
  },
  "language_info": {
   "codemirror_mode": {
    "name": "ipython",
    "version": 3
   },
   "file_extension": ".py",
   "mimetype": "text/x-python",
   "name": "python",
   "nbconvert_exporter": "python",
   "pygments_lexer": "ipython3",
   "version": "3.10.11"
  }
 },
 "nbformat": 4,
 "nbformat_minor": 5
}
